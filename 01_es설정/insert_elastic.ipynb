{
 "cells": [
  {
   "cell_type": "code",
   "execution_count": 1,
   "metadata": {},
   "outputs": [],
   "source": [
    "import os\n",
    "import pandas as pd\n",
    "\n",
    "from openai import OpenAI\n",
    "from dotenv import load_dotenv\n",
    "from elasticsearch import Elasticsearch, helpers"
   ]
  },
  {
   "cell_type": "code",
   "execution_count": 2,
   "metadata": {},
   "outputs": [],
   "source": [
    "# .env 파일에서 환경 변수 로드\n",
    "load_dotenv()\n",
    "\n",
    "#openai api key\n",
    "api_key = os.getenv(\"OPENAI_API_KEY\")\n",
    "\n",
    "#elasticsearch password\n",
    "es_pw = os.getenv('ES_PW')"
   ]
  },
  {
   "cell_type": "code",
   "execution_count": 3,
   "metadata": {},
   "outputs": [],
   "source": [
    "# 정책, 용어 파일 로드\n",
    "policy_data = pd.read_excel('origin_policy_chunk.xlsx')\n",
    "words_data = pd.read_excel('origin_word_chunk.xlsx')"
   ]
  },
  {
   "cell_type": "code",
   "execution_count": 4,
   "metadata": {},
   "outputs": [
    {
     "data": {
      "text/html": [
       "<div>\n",
       "<style scoped>\n",
       "    .dataframe tbody tr th:only-of-type {\n",
       "        vertical-align: middle;\n",
       "    }\n",
       "\n",
       "    .dataframe tbody tr th {\n",
       "        vertical-align: top;\n",
       "    }\n",
       "\n",
       "    .dataframe thead th {\n",
       "        text-align: right;\n",
       "    }\n",
       "</style>\n",
       "<table border=\"1\" class=\"dataframe\">\n",
       "  <thead>\n",
       "    <tr style=\"text-align: right;\">\n",
       "      <th></th>\n",
       "      <th>rnum</th>\n",
       "      <th>정책</th>\n",
       "    </tr>\n",
       "  </thead>\n",
       "  <tbody>\n",
       "    <tr>\n",
       "      <th>0</th>\n",
       "      <td>1</td>\n",
       "      <td>지역: 노원구\\n분야: 일자리\\n정책명: 청년 평생 교육 프로그램 ‘다 담다’ 운영...</td>\n",
       "    </tr>\n",
       "    <tr>\n",
       "      <th>1</th>\n",
       "      <td>1</td>\n",
       "      <td>지역: 노원구\\n분야: 일자리\\n정책명: 청년 평생 교육 프로그램 ‘다 담다’ 운영...</td>\n",
       "    </tr>\n",
       "    <tr>\n",
       "      <th>2</th>\n",
       "      <td>1</td>\n",
       "      <td>지역: 노원구\\n분야: 일자리\\n정책명: 청년 평생 교육 프로그램 ‘다 담다’ 운영...</td>\n",
       "    </tr>\n",
       "    <tr>\n",
       "      <th>3</th>\n",
       "      <td>2</td>\n",
       "      <td>지역: 은평구\\n분야: 일자리\\n정책명: 청년 창업점포 운영\\n정책 설명: 청년 창...</td>\n",
       "    </tr>\n",
       "    <tr>\n",
       "      <th>4</th>\n",
       "      <td>2</td>\n",
       "      <td>지역: 은평구\\n분야: 일자리\\n정책명: 청년 창업점포 운영\\n정책 설명: 청년 창...</td>\n",
       "    </tr>\n",
       "  </tbody>\n",
       "</table>\n",
       "</div>"
      ],
      "text/plain": [
       "   rnum                                                 정책\n",
       "0     1  지역: 노원구\\n분야: 일자리\\n정책명: 청년 평생 교육 프로그램 ‘다 담다’ 운영...\n",
       "1     1  지역: 노원구\\n분야: 일자리\\n정책명: 청년 평생 교육 프로그램 ‘다 담다’ 운영...\n",
       "2     1  지역: 노원구\\n분야: 일자리\\n정책명: 청년 평생 교육 프로그램 ‘다 담다’ 운영...\n",
       "3     2  지역: 은평구\\n분야: 일자리\\n정책명: 청년 창업점포 운영\\n정책 설명: 청년 창...\n",
       "4     2  지역: 은평구\\n분야: 일자리\\n정책명: 청년 창업점포 운영\\n정책 설명: 청년 창..."
      ]
     },
     "execution_count": 4,
     "metadata": {},
     "output_type": "execute_result"
    }
   ],
   "source": [
    "policy_data.head()"
   ]
  },
  {
   "cell_type": "code",
   "execution_count": 5,
   "metadata": {},
   "outputs": [
    {
     "data": {
      "text/html": [
       "<div>\n",
       "<style scoped>\n",
       "    .dataframe tbody tr th:only-of-type {\n",
       "        vertical-align: middle;\n",
       "    }\n",
       "\n",
       "    .dataframe tbody tr th {\n",
       "        vertical-align: top;\n",
       "    }\n",
       "\n",
       "    .dataframe thead th {\n",
       "        text-align: right;\n",
       "    }\n",
       "</style>\n",
       "<table border=\"1\" class=\"dataframe\">\n",
       "  <thead>\n",
       "    <tr style=\"text-align: right;\">\n",
       "      <th></th>\n",
       "      <th>rnum</th>\n",
       "      <th>용어</th>\n",
       "    </tr>\n",
       "  </thead>\n",
       "  <tbody>\n",
       "    <tr>\n",
       "      <th>0</th>\n",
       "      <td>1</td>\n",
       "      <td>디지털 드로잉은 컴퓨터나 태블릿과 같은 디지털 기기를 사용하여 그림을 그리는 것을 ...</td>\n",
       "    </tr>\n",
       "    <tr>\n",
       "      <th>1</th>\n",
       "      <td>2</td>\n",
       "      <td>만 나이는 사람이 실제로 살아온 정확한 연수를 기준으로 계산하는 나이입니다. 한국에...</td>\n",
       "    </tr>\n",
       "    <tr>\n",
       "      <th>2</th>\n",
       "      <td>3</td>\n",
       "      <td>비영리단체는 사회적, 교육적, 자선적, 문화적 또는 과학적 목적을 추구하기 위해 설...</td>\n",
       "    </tr>\n",
       "    <tr>\n",
       "      <th>3</th>\n",
       "      <td>4</td>\n",
       "      <td>협동조합은 공동의 목표를 가진 회원들이 자발적으로 모여 운영하는 비즈니스 조직입니다...</td>\n",
       "    </tr>\n",
       "    <tr>\n",
       "      <th>4</th>\n",
       "      <td>5</td>\n",
       "      <td>새싹점포 청년상인은 전통시장이나 상점가에서 새롭게 사업을 시작하는 젊은 상인들을 의...</td>\n",
       "    </tr>\n",
       "  </tbody>\n",
       "</table>\n",
       "</div>"
      ],
      "text/plain": [
       "   rnum                                                 용어\n",
       "0     1  디지털 드로잉은 컴퓨터나 태블릿과 같은 디지털 기기를 사용하여 그림을 그리는 것을 ...\n",
       "1     2  만 나이는 사람이 실제로 살아온 정확한 연수를 기준으로 계산하는 나이입니다. 한국에...\n",
       "2     3  비영리단체는 사회적, 교육적, 자선적, 문화적 또는 과학적 목적을 추구하기 위해 설...\n",
       "3     4  협동조합은 공동의 목표를 가진 회원들이 자발적으로 모여 운영하는 비즈니스 조직입니다...\n",
       "4     5  새싹점포 청년상인은 전통시장이나 상점가에서 새롭게 사업을 시작하는 젊은 상인들을 의..."
      ]
     },
     "execution_count": 5,
     "metadata": {},
     "output_type": "execute_result"
    }
   ],
   "source": [
    "words_data.head()"
   ]
  },
  {
   "cell_type": "code",
   "execution_count": 6,
   "metadata": {},
   "outputs": [],
   "source": [
    "#임베딩 설정\n",
    "\n",
    "# OpenAI API 키 설정\n",
    "openai = OpenAI()\n",
    "openai.api_key = api_key"
   ]
  },
  {
   "cell_type": "code",
   "execution_count": 9,
   "metadata": {},
   "outputs": [],
   "source": [
    "# 텍스트 임베딩 함수\n",
    "def get_embedding(text, model=\"text-embedding-3-small\"):\n",
    "   text = text.replace(\"\\n\", \" \")\n",
    "   return openai.embeddings.create(input = [text], model=model).data[0].embedding"
   ]
  },
  {
   "cell_type": "code",
   "execution_count": 11,
   "metadata": {},
   "outputs": [],
   "source": [
    "#임베딩 진행\n",
    "policy_data['policy_embeddings'] = policy_data['정책'].apply(lambda x: get_embedding(x))\n",
    "words_data['word_embeddings'] = words_data['용어'].apply(lambda x: get_embedding(x))"
   ]
  },
  {
   "cell_type": "code",
   "execution_count": 12,
   "metadata": {},
   "outputs": [
    {
     "data": {
      "text/html": [
       "<div>\n",
       "<style scoped>\n",
       "    .dataframe tbody tr th:only-of-type {\n",
       "        vertical-align: middle;\n",
       "    }\n",
       "\n",
       "    .dataframe tbody tr th {\n",
       "        vertical-align: top;\n",
       "    }\n",
       "\n",
       "    .dataframe thead th {\n",
       "        text-align: right;\n",
       "    }\n",
       "</style>\n",
       "<table border=\"1\" class=\"dataframe\">\n",
       "  <thead>\n",
       "    <tr style=\"text-align: right;\">\n",
       "      <th></th>\n",
       "      <th>rnum</th>\n",
       "      <th>정책</th>\n",
       "      <th>policy_embeddings</th>\n",
       "    </tr>\n",
       "  </thead>\n",
       "  <tbody>\n",
       "    <tr>\n",
       "      <th>0</th>\n",
       "      <td>1</td>\n",
       "      <td>지역: 노원구\\n분야: 일자리\\n정책명: 청년 평생 교육 프로그램 ‘다 담다’ 운영...</td>\n",
       "      <td>[-0.024120546877384186, 0.03090936876833439, 0...</td>\n",
       "    </tr>\n",
       "    <tr>\n",
       "      <th>1</th>\n",
       "      <td>1</td>\n",
       "      <td>지역: 노원구\\n분야: 일자리\\n정책명: 청년 평생 교육 프로그램 ‘다 담다’ 운영...</td>\n",
       "      <td>[-0.009894113056361675, 0.03836297243833542, 0...</td>\n",
       "    </tr>\n",
       "    <tr>\n",
       "      <th>2</th>\n",
       "      <td>1</td>\n",
       "      <td>지역: 노원구\\n분야: 일자리\\n정책명: 청년 평생 교육 프로그램 ‘다 담다’ 운영...</td>\n",
       "      <td>[-0.02647486887872219, 0.03164590895175934, 0....</td>\n",
       "    </tr>\n",
       "  </tbody>\n",
       "</table>\n",
       "</div>"
      ],
      "text/plain": [
       "   rnum                                                 정책  \\\n",
       "0     1  지역: 노원구\\n분야: 일자리\\n정책명: 청년 평생 교육 프로그램 ‘다 담다’ 운영...   \n",
       "1     1  지역: 노원구\\n분야: 일자리\\n정책명: 청년 평생 교육 프로그램 ‘다 담다’ 운영...   \n",
       "2     1  지역: 노원구\\n분야: 일자리\\n정책명: 청년 평생 교육 프로그램 ‘다 담다’ 운영...   \n",
       "\n",
       "                                   policy_embeddings  \n",
       "0  [-0.024120546877384186, 0.03090936876833439, 0...  \n",
       "1  [-0.009894113056361675, 0.03836297243833542, 0...  \n",
       "2  [-0.02647486887872219, 0.03164590895175934, 0....  "
      ]
     },
     "execution_count": 12,
     "metadata": {},
     "output_type": "execute_result"
    }
   ],
   "source": [
    "policy_data.head(3)"
   ]
  },
  {
   "cell_type": "code",
   "execution_count": 13,
   "metadata": {},
   "outputs": [
    {
     "data": {
      "text/html": [
       "<div>\n",
       "<style scoped>\n",
       "    .dataframe tbody tr th:only-of-type {\n",
       "        vertical-align: middle;\n",
       "    }\n",
       "\n",
       "    .dataframe tbody tr th {\n",
       "        vertical-align: top;\n",
       "    }\n",
       "\n",
       "    .dataframe thead th {\n",
       "        text-align: right;\n",
       "    }\n",
       "</style>\n",
       "<table border=\"1\" class=\"dataframe\">\n",
       "  <thead>\n",
       "    <tr style=\"text-align: right;\">\n",
       "      <th></th>\n",
       "      <th>rnum</th>\n",
       "      <th>용어</th>\n",
       "      <th>word_embeddings</th>\n",
       "    </tr>\n",
       "  </thead>\n",
       "  <tbody>\n",
       "    <tr>\n",
       "      <th>0</th>\n",
       "      <td>1</td>\n",
       "      <td>디지털 드로잉은 컴퓨터나 태블릿과 같은 디지털 기기를 사용하여 그림을 그리는 것을 ...</td>\n",
       "      <td>[0.006628303322941065, -0.0026317525189369917,...</td>\n",
       "    </tr>\n",
       "    <tr>\n",
       "      <th>1</th>\n",
       "      <td>2</td>\n",
       "      <td>만 나이는 사람이 실제로 살아온 정확한 연수를 기준으로 계산하는 나이입니다. 한국에...</td>\n",
       "      <td>[0.015981122851371765, 0.021755356341600418, -...</td>\n",
       "    </tr>\n",
       "    <tr>\n",
       "      <th>2</th>\n",
       "      <td>3</td>\n",
       "      <td>비영리단체는 사회적, 교육적, 자선적, 문화적 또는 과학적 목적을 추구하기 위해 설...</td>\n",
       "      <td>[0.023582614958286285, 0.027814337983727455, 0...</td>\n",
       "    </tr>\n",
       "  </tbody>\n",
       "</table>\n",
       "</div>"
      ],
      "text/plain": [
       "   rnum                                                 용어  \\\n",
       "0     1  디지털 드로잉은 컴퓨터나 태블릿과 같은 디지털 기기를 사용하여 그림을 그리는 것을 ...   \n",
       "1     2  만 나이는 사람이 실제로 살아온 정확한 연수를 기준으로 계산하는 나이입니다. 한국에...   \n",
       "2     3  비영리단체는 사회적, 교육적, 자선적, 문화적 또는 과학적 목적을 추구하기 위해 설...   \n",
       "\n",
       "                                     word_embeddings  \n",
       "0  [0.006628303322941065, -0.0026317525189369917,...  \n",
       "1  [0.015981122851371765, 0.021755356341600418, -...  \n",
       "2  [0.023582614958286285, 0.027814337983727455, 0...  "
      ]
     },
     "execution_count": 13,
     "metadata": {},
     "output_type": "execute_result"
    }
   ],
   "source": [
    "words_data.head(3)"
   ]
  },
  {
   "cell_type": "code",
   "execution_count": 14,
   "metadata": {},
   "outputs": [
    {
     "name": "stderr",
     "output_type": "stream",
     "text": [
      "C:\\Users\\yh\\AppData\\Local\\Temp\\ipykernel_22864\\3582269626.py:2: DeprecationWarning: The 'http_auth' parameter is deprecated. Use 'basic_auth' or 'bearer_auth' parameters instead\n",
      "  es = Elasticsearch([{'host': 'localhost', 'port': 9200, 'scheme':'http'}], http_auth=('elastic', 'BD_pl-B5*iWsE+Jwwoqr') )\n"
     ]
    }
   ],
   "source": [
    "# Elasticsearch 연결 설정\n",
    "es = Elasticsearch([{'host': 'localhost', 'port': 9200, 'scheme':'http'}], http_auth=('elastic', es_pw) )"
   ]
  },
  {
   "cell_type": "code",
   "execution_count": 26,
   "metadata": {},
   "outputs": [
    {
     "data": {
      "text/plain": [
       "(555, [])"
      ]
     },
     "execution_count": 26,
     "metadata": {},
     "output_type": "execute_result"
    }
   ],
   "source": [
    "#정책 인덱스 없으면 생성, 청크x\n",
    "index_name1 = 'policy'\n",
    "if not es.indices.exists(index=index_name1):\n",
    "    es.indices.create(index=index_name1)\n",
    "\n",
    "# 데이터 인덱싱\n",
    "def generate_docs(data):\n",
    "    for idx, row in data.iterrows():\n",
    "        yield {\n",
    "            \"_index\": index_name1,\n",
    "            \"_id\": idx,\n",
    "            \"_source\": {\n",
    "                \"text\": row['정책'],\n",
    "                \"embedding\": row['policy_embeddings']\n",
    "            }\n",
    "        }\n",
    "\n",
    "helpers.bulk(es, generate_docs(policy_data))"
   ]
  },
  {
   "cell_type": "code",
   "execution_count": 17,
   "metadata": {},
   "outputs": [
    {
     "data": {
      "text/plain": [
       "(43, [])"
      ]
     },
     "execution_count": 17,
     "metadata": {},
     "output_type": "execute_result"
    }
   ],
   "source": [
    "#용어 인덱스 없으면 생성, 청크x\n",
    "index_name2 = 'word'\n",
    "if not es.indices.exists(index=index_name2):\n",
    "    es.indices.create(index=index_name2)\n",
    "\n",
    "# 데이터 인덱싱\n",
    "def generate_docs(data):\n",
    "    for idx, row in data.iterrows():\n",
    "        yield {\n",
    "            \"_index\": index_name2,\n",
    "            \"_id\": row['rnum'],\n",
    "            \"_source\": {\n",
    "                \"text\": row['용어'],\n",
    "                \"embedding\": row['word_embeddings']\n",
    "            }\n",
    "        }\n",
    "\n",
    "helpers.bulk(es, generate_docs(words_data))"
   ]
  },
  {
   "cell_type": "code",
   "execution_count": null,
   "metadata": {},
   "outputs": [],
   "source": [
    "#===============================검색 테스트============================================"
   ]
  },
  {
   "cell_type": "code",
   "execution_count": 27,
   "metadata": {},
   "outputs": [],
   "source": [
    "# 검색 쿼리 생성 함수\n",
    "def policy_search(query, top_k=3):\n",
    "    # 쿼리 텍스트 임베딩\n",
    "    query_embedding = get_embedding(query)\n",
    "\n",
    "    # 검색 쿼리\n",
    "    search_query = {\n",
    "        \"size\": top_k,\n",
    "        \"query\": {\n",
    "            \"script_score\": {\n",
    "                \"query\": {\"match_all\": {}},\n",
    "                \"script\": {\n",
    "                    \"source\": \"cosineSimilarity(params.query_vector, 'embedding') + 1.0\",\n",
    "                    \"params\": {\"query_vector\": query_embedding}\n",
    "                }\n",
    "            }\n",
    "        }\n",
    "    }\n",
    "\n",
    "    # 검색 실행\n",
    "    response = es.search(index='policy', body=search_query)\n",
    "    return response['hits']['hits']\n"
   ]
  },
  {
   "cell_type": "code",
   "execution_count": 30,
   "metadata": {},
   "outputs": [
    {
     "name": "stdout",
     "output_type": "stream",
     "text": [
      "지역: 노원구\n",
      "분야: 일자리\n",
      "정책명: 청년 평생 교육 프로그램 ‘다 담다’ 운영(노원구)\n",
      "정책 설명: '나를 담다', '우리를 담다', '미래를 담다', '여가를 담다'의 4개 영역, 총 30개 프로그램 운영\n",
      "지원 내용:\n",
      "- '나를 담다' (180명): 자신을 더 깊이 이해하고, 자신만의 브랜드 구축\n",
      "  - 퍼스널 컬러와 스타일\n",
      "  - 진로·적성검사\n",
      "  - 심리검사\n",
      "  - 퍼스널 브랜딩\n",
      "  - 그림책 테라피\n",
      "  - 원예 테라피\n",
      "  - 다이어리 꾸미기\n",
      "- '우리를 담다' (140명): 타인의 마음을 이해하는 심리검사와 소통하는 법을 배우는 프로그램\n",
      "- '미래를 담다’ (355명): 청년이 미래를 대비할 수 있는 지식과 기술 제공\n",
      "  - 자산관리방법\n",
      "  - 경제교육 및 재테크 방법\n",
      "  - 주거관리\n",
      "  - N잡러(다중 직업) 배우기\n",
      "  - 법률 교육\n",
      "  - ChatGPT 활용\n",
      "  - 메타버스 체험\n",
      "  - 명사 토크콘서트\n",
      "- '여가를 담다’ (170명): 청년의 다양한 취미를 즐기며 의미있는 여가시간 만들기\n",
      "  - 기초 풋살 강의\n",
      "  - 뜨개질\n",
      "  - 디지털 드로잉\n",
      "  - 식물 재배\n",
      "  - 미술 이야기\n",
      "  - 세계여행\n",
      "주관 기관: 노원구 청년정책과\n",
      "지원(신청) 기간: 2024-07-22~2024-11-30 (2024.07.22.(월) 부터 신청 가능)\n",
      "지원 인원: 800명 1.5656385\n",
      "==============================================================\n",
      "지역: 영등포구\n",
      "분야: 일자리\n",
      "정책명: 청년도전 지원사업\n",
      "정책 설명: 구직단념청년을 위한 프로그램으로, 다양한 체험을 통해 구직 의욕을 높이고 자신감을 강화합니다. 단기, 중기, 장기 모듈 수업과 참여수당을 제공합니다.\n",
      "지원 조건:\n",
      "- 구직단념청년: 신청일 이전 6개월 이상 취업·교육·직업훈련 미참여, 구직단념청년 문답표 21점 이상, 만 18~34세\n",
      "- 자립준비청년: 아동복지시설 보호 후 퇴소 5년 이내 또는 퇴소 연장자, 만 18~34세\n",
      "- 청소년복지시설 입·퇴소 청년: 청소년복지시설에서 6개월 이상 보호받은 만 18~34세\n",
      "- 북한이탈청년: 북한을 이탈한 만 18~34세\n",
      "- 지역특화: 기타 지자체 조례 등에서 지원 필요 인정 청년 (별도 문의)\n",
      "\n",
      "연령: 만 18세 ~ 34세\n",
      "학력 요구 사항: 제한 없음\n",
      "전공 요구 사항: 제한 없음\n",
      "고용 상태:\n",
      "1. 6개월 이상 취업·교육·직업훈련 미참여 (고등학교 졸업(예정)자 예외)\n",
      "2. 구직단념청년 문답표 21점 이상 (만 18~34세)\n",
      "\n",
      "전문 분야 요구 사항: 구직단념청년, 자립준비청년, 청소년복지시설 입·퇴소 청년, 북한이탈 청년\n",
      "\n",
      "추가 단서 사항:\n",
      "- 지역특화 청년 유형:\n",
      "  1. 서울특별시 청년 기본 조례에 따른 만 18세~39세 미취업 또는 실질적 소득 없는 청년\n",
      "  2. 디지털 마케팅 등 관련 분야 취업 희망 청년\n",
      "  3. 자립준비청년 보호시설 비해당 시설에서 독립 후 국민취업지원제도 참여 어려운 청년\n",
      "  4. 1년 이상 경력단절 여성\n",
      "  5. 폐업 자영업 청년\n",
      "  6. 취업 문제로 졸업 유예한 대학 졸업예정자\n",
      "  7. 연속 1년 이상 장기휴학 중인 대학생\n",
      "- 지역특화 청년은 증빙서류 요청 가능\n",
      "\n",
      "참여 제한 대상:\n",
      "- 고용보험법에 따른 구직급여 수급 중 또는 수급 종료 후 6개월 이내인 자\n",
      "- 국민취업지원제도 참여 중인 자\n",
      "- 학점은행제, 사이버대학, 대학원, 방송통신고등학교 등 재학생\n",
      "- 단기 아르바이트 및 프리랜서 등으로 소득 발생 청년 1.5444309\n",
      "==============================================================\n",
      "지역: 서울시\n",
      "분야: 복지 문화\n",
      "정책명: 서울시 청년 자립토대 지원사업\n",
      "정책 설명: 개인회생 청년의 경제적 재기 지원 및 재무 역량 강화를 위한 지원사업입니다. 코로나19 이후 청년층의 가계부채 증가와 재무건전성 악화로 개인회생 신청이 증가하는 상황에서, 금융 취약 청년층의 재도산을 예방하고 신속한 경제적 재기를 지원하기 위한 사업입니다. \n",
      "\n",
      "지원 내용:\n",
      "- 재무역량 강화를 위한 맞춤형 프로그램:\n",
      "  - 금융교육 2회\n",
      "  - 1:1 맞춤형 상담 3회 진행\n",
      "    * 참가자별 상황에 따라 복지, 주거, 고용 등 서비스 연계 지원\n",
      "    * 재무 상태 파악 및 목표 설정, 금융상품 적정성 평가 및 분석, 소득·지출 관리, 실행사항 이행 여부 확인 및 모니터링\n",
      "- 자립토대 지원금: 100만원 (50만원 × 2회, 생애 1회 지원 원칙)\n",
      "  - 참가자 본인 계좌로 지급\n",
      "\n",
      "주관 기관: 서울특별시\n",
      "운영 기간: 2024년 3월 ~ 2024년 11월\n",
      "지원(신청) 기간: 2024-03-18 ~ 2024-04-12\n",
      "\n",
      "지원 인원: 150명 1.5435715\n",
      "==============================================================\n"
     ]
    }
   ],
   "source": [
    "# 예제 검색\n",
    "query = \"청년 평생 교육 프로그램 다담다의 지원 내용은?\"\n",
    "results = policy_search(query)\n",
    "for result in results:\n",
    "    print(result['_source']['text'], result['_score'])\n",
    "    print('==============================================================')"
   ]
  },
  {
   "cell_type": "code",
   "execution_count": 23,
   "metadata": {},
   "outputs": [],
   "source": [
    "# 검색 쿼리 생성 함수\n",
    "def word_search(query, top_k=3):\n",
    "    # 쿼리 텍스트 임베딩\n",
    "    query_embedding = get_embedding(query)\n",
    "\n",
    "    # 검색 쿼리\n",
    "    search_query = {\n",
    "        \"size\": top_k,\n",
    "        \"query\": {\n",
    "            \"script_score\": {\n",
    "                \"query\": {\"match_all\": {}},\n",
    "                \"script\": {\n",
    "                    \"source\": \"cosineSimilarity(params.query_vector, 'embedding') + 1.0\",\n",
    "                    \"params\": {\"query_vector\": query_embedding}\n",
    "                }\n",
    "            }\n",
    "        }\n",
    "    }\n",
    "\n",
    "    # 검색 실행\n",
    "    response = es.search(index='word', body=search_query)\n",
    "    return response['hits']['hits']\n"
   ]
  },
  {
   "cell_type": "code",
   "execution_count": 24,
   "metadata": {},
   "outputs": [
    {
     "name": "stdout",
     "output_type": "stream",
     "text": [
      "구정은 특정 지방 자치 단체인 구(區)의 행정을 의미합니다. 대한민국 같은 국가에서는 대도시를 여러 구로 나누어 각 구마다 자체적인 행정 기관을 두고 있습니다. 구정은 그 지역 내의 행정, 서비스 제공, 정책 시행, 지역 개발 및 관리 등 다양한 공공 업무를 관리합니다. 강남구청 같은 구청은 구민의 복지 향상과 지역 발전을 목표로 다양한 프로그램과 정책을 운영하며, 이러한 활동 전체가 구정 활동에 해당합니다. 구정은 구민의 일상생활과 밀접한 관련이 있으며, 구민의 삶의 질을 높이는 데 중요한 역할을 합니다. 1.5320867\n",
      "==============================================================\n",
      "조례(條例)는 지방자치단체의 의회에서 제정하는 법률로, 해당 지방자치단체 내에서만 적용되는 규범입니다. 중앙 정부가 제정하는 법률과는 달리, 조례는 지방자치단체가 자체적으로 필요한 사항을 규정하기 위해 만들며, 주민의 생활에 직접적인 영향을 미치는 규칙들을 포함합니다. 예를 들어, 주차 규정, 환경 보호, 지역 축제 운영 등이 조례에 의해 규정될 수 있습니다.\n",
      "\n",
      "조례는 해당 지역 주민의 요구와 특성을 반영하여 제정되기 때문에, 지역 사회의 구체적인 상황에 맞는 규범을 제공하는 역할을 합니다. 1.3026613\n",
      "==============================================================\n",
      "통풍은 혈액 내 요산 농도가 높아져 관절에 요산 결정이 쌓여 염증과 통증을 유발하는 질환입니다. 주로 발가락 관절에서 시작되며, 급성 통증과 부기를 동반할 수 있습니다. 식이 요법과 약물 치료로 관리할 수 있습니다. 1.2600875\n",
      "==============================================================\n"
     ]
    }
   ],
   "source": [
    "# 예제 검색\n",
    "query = \"구정이 무슨뜻이야?\"\n",
    "results = word_search(query)\n",
    "for result in results:\n",
    "    print(result['_source']['text'], result['_score'])\n",
    "    print('==============================================================')"
   ]
  },
  {
   "cell_type": "code",
   "execution_count": null,
   "metadata": {},
   "outputs": [],
   "source": []
  }
 ],
 "metadata": {
  "kernelspec": {
   "display_name": "py10",
   "language": "python",
   "name": "python3"
  },
  "language_info": {
   "codemirror_mode": {
    "name": "ipython",
    "version": 3
   },
   "file_extension": ".py",
   "mimetype": "text/x-python",
   "name": "python",
   "nbconvert_exporter": "python",
   "pygments_lexer": "ipython3",
   "version": "3.10.14"
  }
 },
 "nbformat": 4,
 "nbformat_minor": 2
}
